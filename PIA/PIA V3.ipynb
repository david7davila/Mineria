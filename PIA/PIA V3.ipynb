{
 "cells": [
  {
   "cell_type": "markdown",
   "metadata": {},
   "source": [
    "# Análisis de las ventas mundiales de videojuegos\n",
    " **Grupo 2**\n",
    " **Equipo 5**\n",
    "- Luis David Dávila Torres\n",
    "- Josué Alonso Salazar Serrato\n",
    "\n",
    "## Índice   \n",
    "1. [Objetivo](#id1)\n",
    "2. [Preguntas de interés](#id2)\n",
    "3. [Descripción](#id3)\n",
    "4. [Procesando los datos](#id4)\n",
    "    1. [Visualización de los datos](#id4.1)\n",
    "    2. [Tipos de Datos](#id4.2)\n",
    "    3. [Datos Nulos](#id4.3)\n",
    "    4. [Limpieza](#id4.4)\n",
    "5. [Datos Procesados](#id5)\n",
    "6. [Descripción estadística](#id6)\n",
    "7. [Gráficos](#id7)\n",
    "8. [Respondiendo preguntas de interes](#id8)\n",
    "9. [Regresion Logística](#id9)\n",
    "10. [Predicciones](#id10)\n",
    "\n",
    "## Objetivo <a name=\"id1\"></a>\n",
    "Ser capaces de seguir el comportamiento de ventas de un videojuego para clasificar un juego como exitoso o no. Para esto nos centramos en un modelo de red neuronal. Además de conocer las preferencias de genero de cada región, para saber que juego tiene más probabilidades de ser exitoso o no por cada región.\n",
    "\n",
    "\n",
    "## Preguntas de interés<a name=\"id2\"></a>\n",
    "\n",
    "1.\t¿Un juego que fue lanzado será exitoso o no, bajo las condiciones iniciales de su plataforma, genero, puntaje y clasificación?\n",
    "\n",
    "2.\t¿Me convendría crear mi juego exclusivo para alguna compañía, o de un género en específico conociendo ya las preferencias de alguna región en específico?\n",
    "\n",
    "## Descripción<a name=\"id3\"></a>\n",
    "La base de datos está orientada a las ventas mundiales en distintas regiones de videojuegos, esta información es bastante útil para generar una predicción o estimación para el lanzamiento de un videojuego con ciertas características en las distintas regiones correspondientes, también puede ayudar en base a las ventas en distintas regiones a saber el impacto de cierto videojuego y si convendría o no su lanzamiento en dada región debido a su volumen de venta y crítica. \n",
    "\n",
    "Las ventas en esta base de datos están en unidades vendidas de cada juego en millones.\n",
    "\n",
    "**Columnas**\n",
    "- Name: Representa el nombre del videojuego.\n",
    "- Platform: Plataforma o consola donde fue lanzado el juego.\n",
    "- Year_of_Release: Año que fue lanzado el videojuego desde 1985 hasta 2016\n",
    "- Genre: Genero del videojuego.\n",
    "- Publisher: Compañía que publico el videojuego y lanzo juego al mercado.\n",
    "- NA_Sales: Numero de ventas en Norte América.\n",
    "- EU_Sales: Numero de ventas en Europa.\n",
    "- JP_Sales: Numero de ventas en Japón.\n",
    "- Other_Sales: Numero de ventas en otras partes del mundo.\n",
    "- Global_Sales: Numero de ventas en todo el mundo.\n",
    "- Critic_Score: Es el score o puntuación que le asigno la página.\n",
    "- Critic_Count: Es el número de críticas que se realizaron para el critic score.\n",
    "- User_Score: Es el score o puntuación que se asignó en base a los usuarios de la página.\n",
    "- User_Count: Es el número de críticas que se enviaron por parte de los usuarios para el user score.\n",
    "- Developer: Es la desarrolladora o compañía que crea (programa) el videojuego.\n",
    "- Rating: Es la clasificación ESRB\n",
    "\n"
   ]
  },
  {
   "cell_type": "markdown",
   "metadata": {},
   "source": [
    "## Procesando los datos<a name=\"id4\"></a>\n",
    "\n",
    "Importar las librerías."
   ]
  },
  {
   "cell_type": "code",
   "execution_count": 56,
   "metadata": {},
   "outputs": [],
   "source": [
    "import pandas as pd \n",
    "import numpy as np\n",
    "import matplotlib as plt\n",
    "import matplotlib.pyplot as plt\n",
    "%matplotlib inline\n",
    "\n",
    "from sklearn import linear_model\n",
    "from sklearn import model_selection\n",
    "from sklearn.metrics import classification_report\n",
    "from sklearn.metrics import confusion_matrix\n",
    "from sklearn.metrics import accuracy_score\n",
    "#import seaborn as sb\n",
    "\n",
    "\n",
    "from matplotlib.colors import ListedColormap\n",
    "\n",
    "#from sklearn.linear_model import LogisticRegression\n",
    "from sklearn.datasets import make_classification\n",
    "import seaborn as sns\n",
    "sns.set(style=\"white\")\n",
    "\n"
   ]
  },
  {
   "cell_type": "markdown",
   "metadata": {},
   "source": [
    "Cargar el archivo con la información de nuestra base."
   ]
  },
  {
   "cell_type": "code",
   "execution_count": 2,
   "metadata": {},
   "outputs": [],
   "source": [
    "#SALES = pd.read_csv(\"C:/Users/jos/josue/Mineria_de_Datos/Avance PIA/BASE USAR.csv\") #josue\n",
    "SALES = pd.read_csv(\"C:/Users/david/Mineria Datos/josue/Mineria_de_Datos/Avance PIA/BASE USAR.csv\") # David \n",
    "Data=pd.DataFrame(SALES)"
   ]
  },
  {
   "cell_type": "markdown",
   "metadata": {},
   "source": [
    "**Visualización de los datos**<a name=\"id4.1\"></a>"
   ]
  },
  {
   "cell_type": "code",
   "execution_count": 14,
   "metadata": {
    "scrolled": false
   },
   "outputs": [
    {
     "data": {
      "text/html": [
       "<div>\n",
       "<style scoped>\n",
       "    .dataframe tbody tr th:only-of-type {\n",
       "        vertical-align: middle;\n",
       "    }\n",
       "\n",
       "    .dataframe tbody tr th {\n",
       "        vertical-align: top;\n",
       "    }\n",
       "\n",
       "    .dataframe thead th {\n",
       "        text-align: right;\n",
       "    }\n",
       "</style>\n",
       "<table border=\"1\" class=\"dataframe\">\n",
       "  <thead>\n",
       "    <tr style=\"text-align: right;\">\n",
       "      <th></th>\n",
       "      <th>Name</th>\n",
       "      <th>Platform</th>\n",
       "      <th>Year_of_Release</th>\n",
       "      <th>Genre</th>\n",
       "      <th>Publisher</th>\n",
       "      <th>NA_Sales</th>\n",
       "      <th>EU_Sales</th>\n",
       "      <th>JP_Sales</th>\n",
       "      <th>Other_Sales</th>\n",
       "      <th>Global_Sales</th>\n",
       "      <th>Critic_Score</th>\n",
       "      <th>Critic_Count</th>\n",
       "      <th>User_Score</th>\n",
       "      <th>User_Count</th>\n",
       "      <th>Developer</th>\n",
       "      <th>Rating</th>\n",
       "    </tr>\n",
       "  </thead>\n",
       "  <tbody>\n",
       "    <tr>\n",
       "      <td>0</td>\n",
       "      <td>Wii Sports</td>\n",
       "      <td>Wii</td>\n",
       "      <td>2006.0</td>\n",
       "      <td>Sports</td>\n",
       "      <td>Nintendo</td>\n",
       "      <td>41.36</td>\n",
       "      <td>28.96</td>\n",
       "      <td>3.77</td>\n",
       "      <td>8.45</td>\n",
       "      <td>82.53</td>\n",
       "      <td>76.0</td>\n",
       "      <td>51.0</td>\n",
       "      <td>8</td>\n",
       "      <td>322.0</td>\n",
       "      <td>Nintendo</td>\n",
       "      <td>E</td>\n",
       "    </tr>\n",
       "    <tr>\n",
       "      <td>1</td>\n",
       "      <td>Super Mario Bros.</td>\n",
       "      <td>NES</td>\n",
       "      <td>1985.0</td>\n",
       "      <td>Platform</td>\n",
       "      <td>Nintendo</td>\n",
       "      <td>29.08</td>\n",
       "      <td>3.58</td>\n",
       "      <td>6.81</td>\n",
       "      <td>0.77</td>\n",
       "      <td>40.24</td>\n",
       "      <td>NaN</td>\n",
       "      <td>NaN</td>\n",
       "      <td>NaN</td>\n",
       "      <td>NaN</td>\n",
       "      <td>NaN</td>\n",
       "      <td>NaN</td>\n",
       "    </tr>\n",
       "    <tr>\n",
       "      <td>2</td>\n",
       "      <td>Mario Kart Wii</td>\n",
       "      <td>Wii</td>\n",
       "      <td>2008.0</td>\n",
       "      <td>Racing</td>\n",
       "      <td>Nintendo</td>\n",
       "      <td>15.68</td>\n",
       "      <td>12.76</td>\n",
       "      <td>3.79</td>\n",
       "      <td>3.29</td>\n",
       "      <td>35.52</td>\n",
       "      <td>82.0</td>\n",
       "      <td>73.0</td>\n",
       "      <td>8.3</td>\n",
       "      <td>709.0</td>\n",
       "      <td>Nintendo</td>\n",
       "      <td>E</td>\n",
       "    </tr>\n",
       "    <tr>\n",
       "      <td>3</td>\n",
       "      <td>Wii Sports Resort</td>\n",
       "      <td>Wii</td>\n",
       "      <td>2009.0</td>\n",
       "      <td>Sports</td>\n",
       "      <td>Nintendo</td>\n",
       "      <td>15.61</td>\n",
       "      <td>10.93</td>\n",
       "      <td>3.28</td>\n",
       "      <td>2.95</td>\n",
       "      <td>32.77</td>\n",
       "      <td>80.0</td>\n",
       "      <td>73.0</td>\n",
       "      <td>8</td>\n",
       "      <td>192.0</td>\n",
       "      <td>Nintendo</td>\n",
       "      <td>E</td>\n",
       "    </tr>\n",
       "    <tr>\n",
       "      <td>4</td>\n",
       "      <td>Pokemon Red/Pokemon Blue</td>\n",
       "      <td>GB</td>\n",
       "      <td>1996.0</td>\n",
       "      <td>Role-Playing</td>\n",
       "      <td>Nintendo</td>\n",
       "      <td>11.27</td>\n",
       "      <td>8.89</td>\n",
       "      <td>10.22</td>\n",
       "      <td>1.00</td>\n",
       "      <td>31.37</td>\n",
       "      <td>NaN</td>\n",
       "      <td>NaN</td>\n",
       "      <td>NaN</td>\n",
       "      <td>NaN</td>\n",
       "      <td>NaN</td>\n",
       "      <td>NaN</td>\n",
       "    </tr>\n",
       "  </tbody>\n",
       "</table>\n",
       "</div>"
      ],
      "text/plain": [
       "                       Name Platform  Year_of_Release         Genre Publisher  \\\n",
       "0                Wii Sports      Wii           2006.0        Sports  Nintendo   \n",
       "1         Super Mario Bros.      NES           1985.0      Platform  Nintendo   \n",
       "2            Mario Kart Wii      Wii           2008.0        Racing  Nintendo   \n",
       "3         Wii Sports Resort      Wii           2009.0        Sports  Nintendo   \n",
       "4  Pokemon Red/Pokemon Blue       GB           1996.0  Role-Playing  Nintendo   \n",
       "\n",
       "   NA_Sales  EU_Sales  JP_Sales  Other_Sales  Global_Sales  Critic_Score  \\\n",
       "0     41.36     28.96      3.77         8.45         82.53          76.0   \n",
       "1     29.08      3.58      6.81         0.77         40.24           NaN   \n",
       "2     15.68     12.76      3.79         3.29         35.52          82.0   \n",
       "3     15.61     10.93      3.28         2.95         32.77          80.0   \n",
       "4     11.27      8.89     10.22         1.00         31.37           NaN   \n",
       "\n",
       "   Critic_Count User_Score  User_Count Developer Rating  \n",
       "0          51.0          8       322.0  Nintendo      E  \n",
       "1           NaN        NaN         NaN       NaN    NaN  \n",
       "2          73.0        8.3       709.0  Nintendo      E  \n",
       "3          73.0          8       192.0  Nintendo      E  \n",
       "4           NaN        NaN         NaN       NaN    NaN  "
      ]
     },
     "execution_count": 14,
     "metadata": {},
     "output_type": "execute_result"
    }
   ],
   "source": [
    "Data.head()"
   ]
  },
  {
   "cell_type": "markdown",
   "metadata": {},
   "source": [
    "Visualizamos los primeros 5 registros de la base de datos donde vemos algunos datos nulos (NaN), así como columnas que no necesitaremos y nombres de columnas en inglés que pasaremos a ajustar posteriormente para una mejor comprensión."
   ]
  },
  {
   "cell_type": "markdown",
   "metadata": {},
   "source": [
    "Cantidad de registros y variables o columnas."
   ]
  },
  {
   "cell_type": "code",
   "execution_count": 15,
   "metadata": {},
   "outputs": [
    {
     "data": {
      "text/plain": [
       "(16719, 16)"
      ]
     },
     "execution_count": 15,
     "metadata": {},
     "output_type": "execute_result"
    }
   ],
   "source": [
    "Data.shape"
   ]
  },
  {
   "cell_type": "markdown",
   "metadata": {},
   "source": [
    "Obtenemos un total de 16719 registros con 16 columnas o variables."
   ]
  },
  {
   "cell_type": "markdown",
   "metadata": {},
   "source": [
    "**Tipos de Datos** <a name=\"id4.2\"></a>\n",
    "\n",
    "Información necesaria para realizar los análisis y no exista problemas por no homogenización de los datos de cada columna"
   ]
  },
  {
   "cell_type": "code",
   "execution_count": 16,
   "metadata": {},
   "outputs": [
    {
     "data": {
      "text/plain": [
       "Name                object\n",
       "Platform            object\n",
       "Year_of_Release    float64\n",
       "Genre               object\n",
       "Publisher           object\n",
       "NA_Sales           float64\n",
       "EU_Sales           float64\n",
       "JP_Sales           float64\n",
       "Other_Sales        float64\n",
       "Global_Sales       float64\n",
       "Critic_Score       float64\n",
       "Critic_Count       float64\n",
       "User_Score          object\n",
       "User_Count         float64\n",
       "Developer           object\n",
       "Rating              object\n",
       "dtype: object"
      ]
     },
     "execution_count": 16,
     "metadata": {},
     "output_type": "execute_result"
    }
   ],
   "source": [
    "Data.dtypes"
   ]
  },
  {
   "cell_type": "markdown",
   "metadata": {},
   "source": [
    "Tenemos datos float64 para numéricos y object para string o cadena de caracteres.\n",
    "\n",
    "\n"
   ]
  },
  {
   "cell_type": "markdown",
   "metadata": {},
   "source": [
    "**Datos Nulos** <a name=\"id4.3\"></a>\n",
    "\n",
    "Se busca encontrar registros que puedan afectar al momento de realizar nuestros datos estadísticos o a la aplicación de los modelos a usar"
   ]
  },
  {
   "cell_type": "code",
   "execution_count": 17,
   "metadata": {
    "scrolled": true
   },
   "outputs": [
    {
     "data": {
      "text/plain": [
       "Name                True\n",
       "Platform           False\n",
       "Year_of_Release     True\n",
       "Genre               True\n",
       "Publisher           True\n",
       "NA_Sales           False\n",
       "EU_Sales           False\n",
       "JP_Sales           False\n",
       "Other_Sales        False\n",
       "Global_Sales       False\n",
       "Critic_Score        True\n",
       "Critic_Count        True\n",
       "User_Score          True\n",
       "User_Count          True\n",
       "Developer           True\n",
       "Rating              True\n",
       "dtype: bool"
      ]
     },
     "execution_count": 17,
     "metadata": {},
     "output_type": "execute_result"
    }
   ],
   "source": [
    "Data.isnull().any()"
   ]
  },
  {
   "cell_type": "markdown",
   "metadata": {},
   "source": [
    "Tenemos 6 Columnas sin datos nulos y 10 con datos nulos."
   ]
  },
  {
   "cell_type": "markdown",
   "metadata": {},
   "source": [
    "**Cantidad de Datos Nulos por Columna**"
   ]
  },
  {
   "cell_type": "code",
   "execution_count": 18,
   "metadata": {},
   "outputs": [
    {
     "data": {
      "text/plain": [
       "Name                  2\n",
       "Platform              0\n",
       "Year_of_Release     269\n",
       "Genre                 2\n",
       "Publisher            54\n",
       "NA_Sales              0\n",
       "EU_Sales              0\n",
       "JP_Sales              0\n",
       "Other_Sales           0\n",
       "Global_Sales          0\n",
       "Critic_Score       8582\n",
       "Critic_Count       8582\n",
       "User_Score         6704\n",
       "User_Count         9129\n",
       "Developer          6623\n",
       "Rating             6769\n",
       "dtype: int64"
      ]
     },
     "execution_count": 18,
     "metadata": {},
     "output_type": "execute_result"
    }
   ],
   "source": [
    "Data.isnull().sum()"
   ]
  },
  {
   "cell_type": "markdown",
   "metadata": {},
   "source": [
    "Se encontró una cantidad muy grande de registros nulos por lo que pasaremos a una limpieza"
   ]
  },
  {
   "cell_type": "markdown",
   "metadata": {},
   "source": [
    "**Limpieza**<a name=\"id4.4\"></a>"
   ]
  },
  {
   "cell_type": "markdown",
   "metadata": {},
   "source": [
    "Primeramente, renombramos las columnas que utilizaremos en nuestro análisis y guardamos en una nueva data para evitar pérdida de datos de nuestra data original."
   ]
  },
  {
   "cell_type": "code",
   "execution_count": 3,
   "metadata": {},
   "outputs": [],
   "source": [
    "Data2=Data.rename(columns = {'Name':'Nombre','Platform':'Plataforma','Year_of_Release':'Lanzamiento','Genre':'Genero','NA_Sales':'V_NA',\n",
    "                             'EU_Sales':'V_EU','JP_Sales':'V_JP','Other_Sales':'V_Otros','Global_Sales':'V_Global',\n",
    "                             'Critic_Score':'Score','User_Score':'Score_Usuarios','Rating':'ESRB'})"
   ]
  },
  {
   "cell_type": "markdown",
   "metadata": {},
   "source": [
    "Eliminando Columnas innecesarias\n",
    "- Publisher\n",
    "\n",
    "- Critic Count\n",
    "\n",
    "- User Count\n",
    "\n",
    "- Developer\n",
    "\n",
    "- Score Usuarios \n",
    "\n",
    "Estas se eliminan debido a que son irrelevantes para nuestro objetivo y tienen un alto volumen de datos nulos."
   ]
  },
  {
   "cell_type": "code",
   "execution_count": 4,
   "metadata": {},
   "outputs": [],
   "source": [
    "Data3=Data2.drop(['Publisher','Critic_Count', 'User_Count', 'Developer','Score_Usuarios'],axis=1)"
   ]
  },
  {
   "cell_type": "markdown",
   "metadata": {},
   "source": [
    "Eliminando los registros con datos nulos en nuestra base."
   ]
  },
  {
   "cell_type": "code",
   "execution_count": 5,
   "metadata": {},
   "outputs": [],
   "source": [
    "Data4 = Data3.dropna(axis=0) "
   ]
  },
  {
   "cell_type": "markdown",
   "metadata": {},
   "source": [
    "Se arregla el tipo de dato del año dejándolo como entero"
   ]
  },
  {
   "cell_type": "code",
   "execution_count": 6,
   "metadata": {},
   "outputs": [
    {
     "name": "stderr",
     "output_type": "stream",
     "text": [
      "C:\\Users\\david\\Anaconda3\\lib\\site-packages\\ipykernel_launcher.py:1: SettingWithCopyWarning: \n",
      "A value is trying to be set on a copy of a slice from a DataFrame.\n",
      "Try using .loc[row_indexer,col_indexer] = value instead\n",
      "\n",
      "See the caveats in the documentation: http://pandas.pydata.org/pandas-docs/stable/user_guide/indexing.html#returning-a-view-versus-a-copy\n",
      "  \"\"\"Entry point for launching an IPython kernel.\n"
     ]
    }
   ],
   "source": [
    "Data4['Lanzamiento'] = Data4['Lanzamiento'].astype(np.int64)"
   ]
  },
  {
   "cell_type": "markdown",
   "metadata": {},
   "source": [
    "Re ordenaremos los index de cada juego para poder simplificar los algoritmos que se usaran."
   ]
  },
  {
   "cell_type": "code",
   "execution_count": 7,
   "metadata": {},
   "outputs": [],
   "source": [
    "Data5=Data4.reset_index(drop=True)"
   ]
  },
  {
   "cell_type": "markdown",
   "metadata": {},
   "source": [
    "## Datos Procesados <a name=\"id5\"></a>"
   ]
  },
  {
   "cell_type": "code",
   "execution_count": 17,
   "metadata": {},
   "outputs": [
    {
     "data": {
      "text/html": [
       "<div>\n",
       "<style scoped>\n",
       "    .dataframe tbody tr th:only-of-type {\n",
       "        vertical-align: middle;\n",
       "    }\n",
       "\n",
       "    .dataframe tbody tr th {\n",
       "        vertical-align: top;\n",
       "    }\n",
       "\n",
       "    .dataframe thead th {\n",
       "        text-align: right;\n",
       "    }\n",
       "</style>\n",
       "<table border=\"1\" class=\"dataframe\">\n",
       "  <thead>\n",
       "    <tr style=\"text-align: right;\">\n",
       "      <th></th>\n",
       "      <th>Nombre</th>\n",
       "      <th>Plataforma</th>\n",
       "      <th>Lanzamiento</th>\n",
       "      <th>Genero</th>\n",
       "      <th>V_NA</th>\n",
       "      <th>V_EU</th>\n",
       "      <th>V_JP</th>\n",
       "      <th>V_Otros</th>\n",
       "      <th>V_Global</th>\n",
       "      <th>Score</th>\n",
       "      <th>ESRB</th>\n",
       "    </tr>\n",
       "  </thead>\n",
       "  <tbody>\n",
       "    <tr>\n",
       "      <td>0</td>\n",
       "      <td>Wii Sports</td>\n",
       "      <td>Wii</td>\n",
       "      <td>2006</td>\n",
       "      <td>Sports</td>\n",
       "      <td>41.36</td>\n",
       "      <td>28.96</td>\n",
       "      <td>3.77</td>\n",
       "      <td>8.45</td>\n",
       "      <td>82.53</td>\n",
       "      <td>76.0</td>\n",
       "      <td>E</td>\n",
       "    </tr>\n",
       "    <tr>\n",
       "      <td>1</td>\n",
       "      <td>Mario Kart Wii</td>\n",
       "      <td>Wii</td>\n",
       "      <td>2008</td>\n",
       "      <td>Racing</td>\n",
       "      <td>15.68</td>\n",
       "      <td>12.76</td>\n",
       "      <td>3.79</td>\n",
       "      <td>3.29</td>\n",
       "      <td>35.52</td>\n",
       "      <td>82.0</td>\n",
       "      <td>E</td>\n",
       "    </tr>\n",
       "    <tr>\n",
       "      <td>2</td>\n",
       "      <td>Wii Sports Resort</td>\n",
       "      <td>Wii</td>\n",
       "      <td>2009</td>\n",
       "      <td>Sports</td>\n",
       "      <td>15.61</td>\n",
       "      <td>10.93</td>\n",
       "      <td>3.28</td>\n",
       "      <td>2.95</td>\n",
       "      <td>32.77</td>\n",
       "      <td>80.0</td>\n",
       "      <td>E</td>\n",
       "    </tr>\n",
       "    <tr>\n",
       "      <td>3</td>\n",
       "      <td>New Super Mario Bros.</td>\n",
       "      <td>DS</td>\n",
       "      <td>2006</td>\n",
       "      <td>Platform</td>\n",
       "      <td>11.28</td>\n",
       "      <td>9.14</td>\n",
       "      <td>6.50</td>\n",
       "      <td>2.88</td>\n",
       "      <td>29.80</td>\n",
       "      <td>89.0</td>\n",
       "      <td>E</td>\n",
       "    </tr>\n",
       "    <tr>\n",
       "      <td>4</td>\n",
       "      <td>Wii Play</td>\n",
       "      <td>Wii</td>\n",
       "      <td>2006</td>\n",
       "      <td>Misc</td>\n",
       "      <td>13.96</td>\n",
       "      <td>9.18</td>\n",
       "      <td>2.93</td>\n",
       "      <td>2.84</td>\n",
       "      <td>28.92</td>\n",
       "      <td>58.0</td>\n",
       "      <td>E</td>\n",
       "    </tr>\n",
       "  </tbody>\n",
       "</table>\n",
       "</div>"
      ],
      "text/plain": [
       "                  Nombre Plataforma  Lanzamiento    Genero   V_NA   V_EU  \\\n",
       "0             Wii Sports        Wii         2006    Sports  41.36  28.96   \n",
       "1         Mario Kart Wii        Wii         2008    Racing  15.68  12.76   \n",
       "2      Wii Sports Resort        Wii         2009    Sports  15.61  10.93   \n",
       "3  New Super Mario Bros.         DS         2006  Platform  11.28   9.14   \n",
       "4               Wii Play        Wii         2006      Misc  13.96   9.18   \n",
       "\n",
       "   V_JP  V_Otros  V_Global  Score ESRB  \n",
       "0  3.77     8.45     82.53   76.0    E  \n",
       "1  3.79     3.29     35.52   82.0    E  \n",
       "2  3.28     2.95     32.77   80.0    E  \n",
       "3  6.50     2.88     29.80   89.0    E  \n",
       "4  2.93     2.84     28.92   58.0    E  "
      ]
     },
     "execution_count": 17,
     "metadata": {},
     "output_type": "execute_result"
    }
   ],
   "source": [
    "Data5.head()"
   ]
  },
  {
   "cell_type": "code",
   "execution_count": 18,
   "metadata": {
    "scrolled": true
   },
   "outputs": [
    {
     "data": {
      "text/plain": [
       "(7902, 11)"
      ]
     },
     "execution_count": 18,
     "metadata": {},
     "output_type": "execute_result"
    }
   ],
   "source": [
    "Data5.shape"
   ]
  },
  {
   "cell_type": "markdown",
   "metadata": {},
   "source": [
    "Después de realizar toda la limpieza nos da un resultado de 7902 Registros y 11 Columnas listos para realizar nuestros análisis."
   ]
  },
  {
   "cell_type": "markdown",
   "metadata": {},
   "source": [
    "## Descripción estadística <a name=\"id6\"></a>"
   ]
  },
  {
   "cell_type": "markdown",
   "metadata": {},
   "source": [
    "Dado que algunos juegos se venden en distintas plataformas es importante saber exactamente cuántos juegos en realidad analizaremos para esto, se emplea la siguiente línea.\n",
    "\n",
    "También nos importa el número de plataformas de videojuegos.\n"
   ]
  },
  {
   "cell_type": "code",
   "execution_count": 26,
   "metadata": {
    "scrolled": true
   },
   "outputs": [
    {
     "data": {
      "text/plain": [
       "17"
      ]
     },
     "execution_count": 26,
     "metadata": {},
     "output_type": "execute_result"
    }
   ],
   "source": [
    "len(Data5['Nombre'].unique())\n",
    "len(Data5['Plataforma'].unique())"
   ]
  },
  {
   "cell_type": "markdown",
   "metadata": {},
   "source": [
    "Tenemos 4975 juegos que se lanzaron en 17 plataformas distintas."
   ]
  },
  {
   "cell_type": "markdown",
   "metadata": {},
   "source": [
    "**Analizando las ventas globales**"
   ]
  },
  {
   "cell_type": "code",
   "execution_count": 44,
   "metadata": {
    "scrolled": true
   },
   "outputs": [
    {
     "data": {
      "text/plain": [
       "count    7902.000000\n",
       "mean        0.698921\n",
       "std         1.839605\n",
       "min         0.010000\n",
       "25%         0.100000\n",
       "50%         0.250000\n",
       "75%         0.660000\n",
       "max        82.530000\n",
       "Name: V_Global, dtype: float64"
      ]
     },
     "execution_count": 44,
     "metadata": {},
     "output_type": "execute_result"
    }
   ],
   "source": [
    "Data5['V_Global'].describe()"
   ]
  },
  {
   "cell_type": "markdown",
   "metadata": {},
   "source": [
    "En el análisis descriptivo, vemos una media de venta global en 0.69 millones de unidades vendidas, con un máximo de 82.53 millones y mínimo de 0.01."
   ]
  },
  {
   "cell_type": "markdown",
   "metadata": {},
   "source": [
    "**Analizando los score de los juegos**"
   ]
  },
  {
   "cell_type": "code",
   "execution_count": 45,
   "metadata": {
    "scrolled": true
   },
   "outputs": [
    {
     "data": {
      "text/plain": [
       "count    7902.000000\n",
       "mean       68.995318\n",
       "std        13.934261\n",
       "min        13.000000\n",
       "25%        60.000000\n",
       "50%        71.000000\n",
       "75%        79.000000\n",
       "max        98.000000\n",
       "Name: Score, dtype: float64"
      ]
     },
     "execution_count": 45,
     "metadata": {},
     "output_type": "execute_result"
    }
   ],
   "source": [
    "Data5['Score'].describe()"
   ]
  },
  {
   "cell_type": "markdown",
   "metadata": {},
   "source": [
    "En el análisis descriptivo, vemos una media de puntuación que la página asigna de 68.99, con un máximo de 98 y mínimo de 13."
   ]
  },
  {
   "cell_type": "markdown",
   "metadata": {},
   "source": [
    "Obtendremos nuevos data frame con la información de los títulos de juegos que cada compañía se encarga de comercializar estas plataformas Nintendo, Sony, Sega, Microsoft, Otros.\n",
    "\n"
   ]
  },
  {
   "cell_type": "code",
   "execution_count": 9,
   "metadata": {},
   "outputs": [],
   "source": [
    "Nintendo = Data5[(Data5['Plataforma'] == '3DS') | (Data5['Plataforma'] == 'DS') | (Data5['Plataforma'] == 'GB') |(Data5['Plataforma'] == 'GBA') | (Data5['Plataforma'] == 'N64') | (Data5['Plataforma'] == 'GC') | (Data5['Plataforma'] == 'NES') | (Data5['Plataforma'] == 'SNES') | (Data5['Plataforma'] == 'Wii') | (Data5['Plataforma'] == 'WiiU')]\n",
    "Sony = Data5[ (Data5['Plataforma'] == 'PS') |(Data5['Plataforma'] == 'PS2') | (Data5['Plataforma'] == 'PSP') | (Data5['Plataforma'] == 'PS3') | (Data5['Plataforma'] == 'PS4') | (Data5['Plataforma'] == 'PSV')]\n",
    "Sega = Data5[(Data5['Plataforma'] == 'GEN') |(Data5['Plataforma'] == 'SCD') | (Data5['Plataforma'] == 'DC') | (Data5['Plataforma'] == 'GG')]\n",
    "Microsoft = Data5[(Data5['Plataforma'] == 'XB') |(Data5['Plataforma'] == 'X360') | (Data5['Plataforma'] == 'XOne') ]\n",
    "Otros = Data5[(Data5['Plataforma'] == '2006') |(Data5['Plataforma'] == '3DO') | (Data5['Plataforma'] == 'NG') | (Data5['Plataforma'] == 'PCFX') | (Data5['Plataforma'] == 'TG16') ]\n"
   ]
  },
  {
   "cell_type": "markdown",
   "metadata": {},
   "source": [
    "Reseteando los index de cada una."
   ]
  },
  {
   "cell_type": "code",
   "execution_count": 28,
   "metadata": {},
   "outputs": [],
   "source": [
    "Nintendo=Nintendo.reset_index(drop=True)\n",
    "Sony=Sony.reset_index(drop=True)\n",
    "Sega=Sega.reset_index(drop=True)\n",
    "Microsoft=Microsoft.reset_index(drop=True)\n",
    "Otros=Otros.reset_index(drop=True)"
   ]
  },
  {
   "cell_type": "markdown",
   "metadata": {},
   "source": [
    "Mostrando los nuevo data frames.\n",
    "\n",
    "**Nintendo**"
   ]
  },
  {
   "cell_type": "code",
   "execution_count": 29,
   "metadata": {},
   "outputs": [
    {
     "data": {
      "text/html": [
       "<div>\n",
       "<style scoped>\n",
       "    .dataframe tbody tr th:only-of-type {\n",
       "        vertical-align: middle;\n",
       "    }\n",
       "\n",
       "    .dataframe tbody tr th {\n",
       "        vertical-align: top;\n",
       "    }\n",
       "\n",
       "    .dataframe thead th {\n",
       "        text-align: right;\n",
       "    }\n",
       "</style>\n",
       "<table border=\"1\" class=\"dataframe\">\n",
       "  <thead>\n",
       "    <tr style=\"text-align: right;\">\n",
       "      <th></th>\n",
       "      <th>Nombre</th>\n",
       "      <th>Plataforma</th>\n",
       "      <th>Lanzamiento</th>\n",
       "      <th>Genero</th>\n",
       "      <th>V_NA</th>\n",
       "      <th>V_EU</th>\n",
       "      <th>V_JP</th>\n",
       "      <th>V_Otros</th>\n",
       "      <th>V_Global</th>\n",
       "      <th>Score</th>\n",
       "      <th>ESRB</th>\n",
       "    </tr>\n",
       "  </thead>\n",
       "  <tbody>\n",
       "    <tr>\n",
       "      <td>0</td>\n",
       "      <td>Wii Sports</td>\n",
       "      <td>Wii</td>\n",
       "      <td>2006</td>\n",
       "      <td>Sports</td>\n",
       "      <td>41.36</td>\n",
       "      <td>28.96</td>\n",
       "      <td>3.77</td>\n",
       "      <td>8.45</td>\n",
       "      <td>82.53</td>\n",
       "      <td>76.0</td>\n",
       "      <td>E</td>\n",
       "    </tr>\n",
       "    <tr>\n",
       "      <td>1</td>\n",
       "      <td>Mario Kart Wii</td>\n",
       "      <td>Wii</td>\n",
       "      <td>2008</td>\n",
       "      <td>Racing</td>\n",
       "      <td>15.68</td>\n",
       "      <td>12.76</td>\n",
       "      <td>3.79</td>\n",
       "      <td>3.29</td>\n",
       "      <td>35.52</td>\n",
       "      <td>82.0</td>\n",
       "      <td>E</td>\n",
       "    </tr>\n",
       "    <tr>\n",
       "      <td>2</td>\n",
       "      <td>Wii Sports Resort</td>\n",
       "      <td>Wii</td>\n",
       "      <td>2009</td>\n",
       "      <td>Sports</td>\n",
       "      <td>15.61</td>\n",
       "      <td>10.93</td>\n",
       "      <td>3.28</td>\n",
       "      <td>2.95</td>\n",
       "      <td>32.77</td>\n",
       "      <td>80.0</td>\n",
       "      <td>E</td>\n",
       "    </tr>\n",
       "    <tr>\n",
       "      <td>3</td>\n",
       "      <td>New Super Mario Bros.</td>\n",
       "      <td>DS</td>\n",
       "      <td>2006</td>\n",
       "      <td>Platform</td>\n",
       "      <td>11.28</td>\n",
       "      <td>9.14</td>\n",
       "      <td>6.50</td>\n",
       "      <td>2.88</td>\n",
       "      <td>29.80</td>\n",
       "      <td>89.0</td>\n",
       "      <td>E</td>\n",
       "    </tr>\n",
       "    <tr>\n",
       "      <td>4</td>\n",
       "      <td>Wii Play</td>\n",
       "      <td>Wii</td>\n",
       "      <td>2006</td>\n",
       "      <td>Misc</td>\n",
       "      <td>13.96</td>\n",
       "      <td>9.18</td>\n",
       "      <td>2.93</td>\n",
       "      <td>2.84</td>\n",
       "      <td>28.92</td>\n",
       "      <td>58.0</td>\n",
       "      <td>E</td>\n",
       "    </tr>\n",
       "  </tbody>\n",
       "</table>\n",
       "</div>"
      ],
      "text/plain": [
       "                  Nombre Plataforma  Lanzamiento    Genero   V_NA   V_EU  \\\n",
       "0             Wii Sports        Wii         2006    Sports  41.36  28.96   \n",
       "1         Mario Kart Wii        Wii         2008    Racing  15.68  12.76   \n",
       "2      Wii Sports Resort        Wii         2009    Sports  15.61  10.93   \n",
       "3  New Super Mario Bros.         DS         2006  Platform  11.28   9.14   \n",
       "4               Wii Play        Wii         2006      Misc  13.96   9.18   \n",
       "\n",
       "   V_JP  V_Otros  V_Global  Score ESRB  \n",
       "0  3.77     8.45     82.53   76.0    E  \n",
       "1  3.79     3.29     35.52   82.0    E  \n",
       "2  3.28     2.95     32.77   80.0    E  \n",
       "3  6.50     2.88     29.80   89.0    E  \n",
       "4  2.93     2.84     28.92   58.0    E  "
      ]
     },
     "execution_count": 29,
     "metadata": {},
     "output_type": "execute_result"
    }
   ],
   "source": [
    "Nintendo.head()"
   ]
  },
  {
   "cell_type": "markdown",
   "metadata": {},
   "source": [
    "**Sony**"
   ]
  },
  {
   "cell_type": "code",
   "execution_count": 30,
   "metadata": {},
   "outputs": [
    {
     "data": {
      "text/html": [
       "<div>\n",
       "<style scoped>\n",
       "    .dataframe tbody tr th:only-of-type {\n",
       "        vertical-align: middle;\n",
       "    }\n",
       "\n",
       "    .dataframe tbody tr th {\n",
       "        vertical-align: top;\n",
       "    }\n",
       "\n",
       "    .dataframe thead th {\n",
       "        text-align: right;\n",
       "    }\n",
       "</style>\n",
       "<table border=\"1\" class=\"dataframe\">\n",
       "  <thead>\n",
       "    <tr style=\"text-align: right;\">\n",
       "      <th></th>\n",
       "      <th>Nombre</th>\n",
       "      <th>Plataforma</th>\n",
       "      <th>Lanzamiento</th>\n",
       "      <th>Genero</th>\n",
       "      <th>V_NA</th>\n",
       "      <th>V_EU</th>\n",
       "      <th>V_JP</th>\n",
       "      <th>V_Otros</th>\n",
       "      <th>V_Global</th>\n",
       "      <th>Score</th>\n",
       "      <th>ESRB</th>\n",
       "    </tr>\n",
       "  </thead>\n",
       "  <tbody>\n",
       "    <tr>\n",
       "      <td>0</td>\n",
       "      <td>Grand Theft Auto V</td>\n",
       "      <td>PS3</td>\n",
       "      <td>2013</td>\n",
       "      <td>Action</td>\n",
       "      <td>7.02</td>\n",
       "      <td>9.09</td>\n",
       "      <td>0.98</td>\n",
       "      <td>3.96</td>\n",
       "      <td>21.04</td>\n",
       "      <td>97.0</td>\n",
       "      <td>M</td>\n",
       "    </tr>\n",
       "    <tr>\n",
       "      <td>1</td>\n",
       "      <td>Grand Theft Auto: San Andreas</td>\n",
       "      <td>PS2</td>\n",
       "      <td>2004</td>\n",
       "      <td>Action</td>\n",
       "      <td>9.43</td>\n",
       "      <td>0.40</td>\n",
       "      <td>0.41</td>\n",
       "      <td>10.57</td>\n",
       "      <td>20.81</td>\n",
       "      <td>95.0</td>\n",
       "      <td>M</td>\n",
       "    </tr>\n",
       "    <tr>\n",
       "      <td>2</td>\n",
       "      <td>Grand Theft Auto: Vice City</td>\n",
       "      <td>PS2</td>\n",
       "      <td>2002</td>\n",
       "      <td>Action</td>\n",
       "      <td>8.41</td>\n",
       "      <td>5.49</td>\n",
       "      <td>0.47</td>\n",
       "      <td>1.78</td>\n",
       "      <td>16.15</td>\n",
       "      <td>95.0</td>\n",
       "      <td>M</td>\n",
       "    </tr>\n",
       "    <tr>\n",
       "      <td>3</td>\n",
       "      <td>Gran Turismo 3: A-Spec</td>\n",
       "      <td>PS2</td>\n",
       "      <td>2001</td>\n",
       "      <td>Racing</td>\n",
       "      <td>6.85</td>\n",
       "      <td>5.09</td>\n",
       "      <td>1.87</td>\n",
       "      <td>1.16</td>\n",
       "      <td>14.98</td>\n",
       "      <td>95.0</td>\n",
       "      <td>E</td>\n",
       "    </tr>\n",
       "    <tr>\n",
       "      <td>4</td>\n",
       "      <td>Call of Duty: Black Ops II</td>\n",
       "      <td>PS3</td>\n",
       "      <td>2012</td>\n",
       "      <td>Shooter</td>\n",
       "      <td>4.99</td>\n",
       "      <td>5.73</td>\n",
       "      <td>0.65</td>\n",
       "      <td>2.42</td>\n",
       "      <td>13.79</td>\n",
       "      <td>83.0</td>\n",
       "      <td>M</td>\n",
       "    </tr>\n",
       "  </tbody>\n",
       "</table>\n",
       "</div>"
      ],
      "text/plain": [
       "                          Nombre Plataforma  Lanzamiento   Genero  V_NA  V_EU  \\\n",
       "0             Grand Theft Auto V        PS3         2013   Action  7.02  9.09   \n",
       "1  Grand Theft Auto: San Andreas        PS2         2004   Action  9.43  0.40   \n",
       "2    Grand Theft Auto: Vice City        PS2         2002   Action  8.41  5.49   \n",
       "3         Gran Turismo 3: A-Spec        PS2         2001   Racing  6.85  5.09   \n",
       "4     Call of Duty: Black Ops II        PS3         2012  Shooter  4.99  5.73   \n",
       "\n",
       "   V_JP  V_Otros  V_Global  Score ESRB  \n",
       "0  0.98     3.96     21.04   97.0    M  \n",
       "1  0.41    10.57     20.81   95.0    M  \n",
       "2  0.47     1.78     16.15   95.0    M  \n",
       "3  1.87     1.16     14.98   95.0    E  \n",
       "4  0.65     2.42     13.79   83.0    M  "
      ]
     },
     "execution_count": 30,
     "metadata": {},
     "output_type": "execute_result"
    }
   ],
   "source": [
    "Sony.head()"
   ]
  },
  {
   "cell_type": "markdown",
   "metadata": {},
   "source": [
    "**Sega**"
   ]
  },
  {
   "cell_type": "code",
   "execution_count": 31,
   "metadata": {},
   "outputs": [
    {
     "data": {
      "text/html": [
       "<div>\n",
       "<style scoped>\n",
       "    .dataframe tbody tr th:only-of-type {\n",
       "        vertical-align: middle;\n",
       "    }\n",
       "\n",
       "    .dataframe tbody tr th {\n",
       "        vertical-align: top;\n",
       "    }\n",
       "\n",
       "    .dataframe thead th {\n",
       "        text-align: right;\n",
       "    }\n",
       "</style>\n",
       "<table border=\"1\" class=\"dataframe\">\n",
       "  <thead>\n",
       "    <tr style=\"text-align: right;\">\n",
       "      <th></th>\n",
       "      <th>Nombre</th>\n",
       "      <th>Plataforma</th>\n",
       "      <th>Lanzamiento</th>\n",
       "      <th>Genero</th>\n",
       "      <th>V_NA</th>\n",
       "      <th>V_EU</th>\n",
       "      <th>V_JP</th>\n",
       "      <th>V_Otros</th>\n",
       "      <th>V_Global</th>\n",
       "      <th>Score</th>\n",
       "      <th>ESRB</th>\n",
       "    </tr>\n",
       "  </thead>\n",
       "  <tbody>\n",
       "    <tr>\n",
       "      <td>0</td>\n",
       "      <td>Shenmue</td>\n",
       "      <td>DC</td>\n",
       "      <td>1999</td>\n",
       "      <td>Adventure</td>\n",
       "      <td>0.52</td>\n",
       "      <td>0.24</td>\n",
       "      <td>0.38</td>\n",
       "      <td>0.04</td>\n",
       "      <td>1.18</td>\n",
       "      <td>88.0</td>\n",
       "      <td>T</td>\n",
       "    </tr>\n",
       "    <tr>\n",
       "      <td>1</td>\n",
       "      <td>NFL 2K1</td>\n",
       "      <td>DC</td>\n",
       "      <td>2000</td>\n",
       "      <td>Sports</td>\n",
       "      <td>1.02</td>\n",
       "      <td>0.05</td>\n",
       "      <td>0.00</td>\n",
       "      <td>0.02</td>\n",
       "      <td>1.09</td>\n",
       "      <td>97.0</td>\n",
       "      <td>E</td>\n",
       "    </tr>\n",
       "    <tr>\n",
       "      <td>2</td>\n",
       "      <td>Seaman</td>\n",
       "      <td>DC</td>\n",
       "      <td>1999</td>\n",
       "      <td>Simulation</td>\n",
       "      <td>0.00</td>\n",
       "      <td>0.00</td>\n",
       "      <td>0.52</td>\n",
       "      <td>0.00</td>\n",
       "      <td>0.52</td>\n",
       "      <td>82.0</td>\n",
       "      <td>T</td>\n",
       "    </tr>\n",
       "    <tr>\n",
       "      <td>3</td>\n",
       "      <td>SoulCalibur</td>\n",
       "      <td>DC</td>\n",
       "      <td>1999</td>\n",
       "      <td>Fighting</td>\n",
       "      <td>0.00</td>\n",
       "      <td>0.00</td>\n",
       "      <td>0.34</td>\n",
       "      <td>0.00</td>\n",
       "      <td>0.34</td>\n",
       "      <td>98.0</td>\n",
       "      <td>T</td>\n",
       "    </tr>\n",
       "    <tr>\n",
       "      <td>4</td>\n",
       "      <td>Capcom vs. SNK</td>\n",
       "      <td>DC</td>\n",
       "      <td>2000</td>\n",
       "      <td>Fighting</td>\n",
       "      <td>0.00</td>\n",
       "      <td>0.00</td>\n",
       "      <td>0.22</td>\n",
       "      <td>0.00</td>\n",
       "      <td>0.22</td>\n",
       "      <td>80.0</td>\n",
       "      <td>T</td>\n",
       "    </tr>\n",
       "  </tbody>\n",
       "</table>\n",
       "</div>"
      ],
      "text/plain": [
       "           Nombre Plataforma  Lanzamiento      Genero  V_NA  V_EU  V_JP  \\\n",
       "0         Shenmue         DC         1999   Adventure  0.52  0.24  0.38   \n",
       "1         NFL 2K1         DC         2000      Sports  1.02  0.05  0.00   \n",
       "2          Seaman         DC         1999  Simulation  0.00  0.00  0.52   \n",
       "3     SoulCalibur         DC         1999    Fighting  0.00  0.00  0.34   \n",
       "4  Capcom vs. SNK         DC         2000    Fighting  0.00  0.00  0.22   \n",
       "\n",
       "   V_Otros  V_Global  Score ESRB  \n",
       "0     0.04      1.18   88.0    T  \n",
       "1     0.02      1.09   97.0    E  \n",
       "2     0.00      0.52   82.0    T  \n",
       "3     0.00      0.34   98.0    T  \n",
       "4     0.00      0.22   80.0    T  "
      ]
     },
     "execution_count": 31,
     "metadata": {},
     "output_type": "execute_result"
    }
   ],
   "source": [
    "Sega.head()"
   ]
  },
  {
   "cell_type": "markdown",
   "metadata": {},
   "source": [
    "**Microsoft**"
   ]
  },
  {
   "cell_type": "code",
   "execution_count": 29,
   "metadata": {},
   "outputs": [
    {
     "data": {
      "text/html": [
       "<div>\n",
       "<style scoped>\n",
       "    .dataframe tbody tr th:only-of-type {\n",
       "        vertical-align: middle;\n",
       "    }\n",
       "\n",
       "    .dataframe tbody tr th {\n",
       "        vertical-align: top;\n",
       "    }\n",
       "\n",
       "    .dataframe thead th {\n",
       "        text-align: right;\n",
       "    }\n",
       "</style>\n",
       "<table border=\"1\" class=\"dataframe\">\n",
       "  <thead>\n",
       "    <tr style=\"text-align: right;\">\n",
       "      <th></th>\n",
       "      <th>Nombre</th>\n",
       "      <th>Plataforma</th>\n",
       "      <th>Lanzamiento</th>\n",
       "      <th>Genero</th>\n",
       "      <th>V_NA</th>\n",
       "      <th>V_EU</th>\n",
       "      <th>V_JP</th>\n",
       "      <th>V_Otros</th>\n",
       "      <th>V_Global</th>\n",
       "      <th>Score</th>\n",
       "      <th>ESRB</th>\n",
       "    </tr>\n",
       "  </thead>\n",
       "  <tbody>\n",
       "    <tr>\n",
       "      <td>0</td>\n",
       "      <td>Kinect Adventures!</td>\n",
       "      <td>X360</td>\n",
       "      <td>2010</td>\n",
       "      <td>Misc</td>\n",
       "      <td>15.00</td>\n",
       "      <td>4.89</td>\n",
       "      <td>0.24</td>\n",
       "      <td>1.69</td>\n",
       "      <td>21.81</td>\n",
       "      <td>61.0</td>\n",
       "      <td>E</td>\n",
       "    </tr>\n",
       "    <tr>\n",
       "      <td>1</td>\n",
       "      <td>Grand Theft Auto V</td>\n",
       "      <td>X360</td>\n",
       "      <td>2013</td>\n",
       "      <td>Action</td>\n",
       "      <td>9.66</td>\n",
       "      <td>5.14</td>\n",
       "      <td>0.06</td>\n",
       "      <td>1.41</td>\n",
       "      <td>16.27</td>\n",
       "      <td>97.0</td>\n",
       "      <td>M</td>\n",
       "    </tr>\n",
       "    <tr>\n",
       "      <td>2</td>\n",
       "      <td>Call of Duty: Modern Warfare 3</td>\n",
       "      <td>X360</td>\n",
       "      <td>2011</td>\n",
       "      <td>Shooter</td>\n",
       "      <td>9.04</td>\n",
       "      <td>4.24</td>\n",
       "      <td>0.13</td>\n",
       "      <td>1.32</td>\n",
       "      <td>14.73</td>\n",
       "      <td>88.0</td>\n",
       "      <td>M</td>\n",
       "    </tr>\n",
       "    <tr>\n",
       "      <td>3</td>\n",
       "      <td>Call of Duty: Black Ops</td>\n",
       "      <td>X360</td>\n",
       "      <td>2010</td>\n",
       "      <td>Shooter</td>\n",
       "      <td>9.70</td>\n",
       "      <td>3.68</td>\n",
       "      <td>0.11</td>\n",
       "      <td>1.13</td>\n",
       "      <td>14.61</td>\n",
       "      <td>87.0</td>\n",
       "      <td>M</td>\n",
       "    </tr>\n",
       "    <tr>\n",
       "      <td>4</td>\n",
       "      <td>Call of Duty: Black Ops II</td>\n",
       "      <td>X360</td>\n",
       "      <td>2012</td>\n",
       "      <td>Shooter</td>\n",
       "      <td>8.25</td>\n",
       "      <td>4.24</td>\n",
       "      <td>0.07</td>\n",
       "      <td>1.12</td>\n",
       "      <td>13.67</td>\n",
       "      <td>83.0</td>\n",
       "      <td>M</td>\n",
       "    </tr>\n",
       "  </tbody>\n",
       "</table>\n",
       "</div>"
      ],
      "text/plain": [
       "                           Nombre Plataforma  Lanzamiento   Genero   V_NA  \\\n",
       "0              Kinect Adventures!       X360         2010     Misc  15.00   \n",
       "1              Grand Theft Auto V       X360         2013   Action   9.66   \n",
       "2  Call of Duty: Modern Warfare 3       X360         2011  Shooter   9.04   \n",
       "3         Call of Duty: Black Ops       X360         2010  Shooter   9.70   \n",
       "4      Call of Duty: Black Ops II       X360         2012  Shooter   8.25   \n",
       "\n",
       "   V_EU  V_JP  V_Otros  V_Global  Score ESRB  \n",
       "0  4.89  0.24     1.69     21.81   61.0    E  \n",
       "1  5.14  0.06     1.41     16.27   97.0    M  \n",
       "2  4.24  0.13     1.32     14.73   88.0    M  \n",
       "3  3.68  0.11     1.13     14.61   87.0    M  \n",
       "4  4.24  0.07     1.12     13.67   83.0    M  "
      ]
     },
     "execution_count": 29,
     "metadata": {},
     "output_type": "execute_result"
    }
   ],
   "source": [
    "Microsoft.head()"
   ]
  },
  {
   "cell_type": "code",
   "execution_count": 32,
   "metadata": {},
   "outputs": [
    {
     "data": {
      "text/plain": [
       "(2254, 11)"
      ]
     },
     "execution_count": 32,
     "metadata": {},
     "output_type": "execute_result"
    }
   ],
   "source": [
    "Generacion7 = Data5[Data5.Plataforma.isin(['Wii', 'PS3', 'X360'])]\n",
    "Generacion7.shape"
   ]
  },
  {
   "cell_type": "code",
   "execution_count": 33,
   "metadata": {},
   "outputs": [
    {
     "data": {
      "text/plain": [
       "(492, 11)"
      ]
     },
     "execution_count": 33,
     "metadata": {},
     "output_type": "execute_result"
    }
   ],
   "source": [
    "Generacion8 = Data5[Data5.Plataforma.isin(['WiiU', 'PS4', 'XOne'])]\n",
    "Generacion8.shape"
   ]
  },
  {
   "cell_type": "markdown",
   "metadata": {},
   "source": [
    "Se realiza una clasificación de las generaciones para analizar las ventas más delante  "
   ]
  },
  {
   "cell_type": "markdown",
   "metadata": {},
   "source": [
    "## Gráficos <a name=\"id7\"></a>"
   ]
  },
  {
   "cell_type": "markdown",
   "metadata": {},
   "source": [
    "**Ventas Globales para la 7ma Generacion**"
   ]
  },
  {
   "cell_type": "code",
   "execution_count": 34,
   "metadata": {},
   "outputs": [
    {
     "data": {
      "text/plain": [
       "Text(0, 0.5, 'Ventas Globales')"
      ]
     },
     "execution_count": 34,
     "metadata": {},
     "output_type": "execute_result"
    },
    {
     "data": {
      "image/png": "[encoded data removed]",
      "text/plain": [
       "<Figure size 648x288 with 1 Axes>"
      ]
     },
     "metadata": {
      "needs_background": "light"
     },
     "output_type": "display_data"
    }
   ],
   "source": [
    "VentaAnual7 = Generacion7.groupby(['Lanzamiento','Plataforma']).V_Global.sum()\n",
    "VentaAnual7.unstack().plot(kind='bar',figsize=(9, 4))\n",
    "#plt.title('Ventas Globales para la 7ma Generacion')\n",
    "plt.ylabel('Ventas Globales')"
   ]
  },
  {
   "cell_type": "markdown",
   "metadata": {},
   "source": [
    "Se puede observar que del año 2006 al 2009 Wii era la mejor opcion para invertir dado a su alto numero de ventas en dicha plataforma, siendo posteriormente relegada, por PS3 y Xbox 360 y decresiendo estos ya para final de la generacion en 2014"
   ]
  },
  {
   "cell_type": "markdown",
   "metadata": {},
   "source": [
    "**Ventas Globales para la 8va Generacion**"
   ]
  },
  {
   "cell_type": "code",
   "execution_count": 35,
   "metadata": {},
   "outputs": [
    {
     "data": {
      "text/plain": [
       "Text(0, 0.5, 'Ventas Globales')"
      ]
     },
     "execution_count": 35,
     "metadata": {},
     "output_type": "execute_result"
    },
    {
     "data": {
      "image/png": "[encoded data removed]",
      "text/plain": [
       "<Figure size 648x288 with 1 Axes>"
      ]
     },
     "metadata": {
      "needs_background": "light"
     },
     "output_type": "display_data"
    }
   ],
   "source": [
    "VentaAnual8 = Generacion8.groupby(['Lanzamiento','Plataforma']).V_Global.sum()\n",
    "VentaAnual8.unstack().plot(kind='bar',figsize=(9, 4))\n",
    "plt.title('Ventas Globales para la 8va Generacion')\n",
    "plt.ylabel('Ventas Globales')"
   ]
  },
  {
   "cell_type": "markdown",
   "metadata": {},
   "source": [
    "Esta es la generacion actual por lo que si se desea desarrollar un juego nuevo es un aspecto importante por que se relaciona directamente con el numero de plataformas, aun que igualmente existen juegos que se pueden desarrollar para las 3 consolas pero aun costo mayor de producción."
   ]
  },
  {
   "cell_type": "markdown",
   "metadata": {},
   "source": [
    "**Generos con mas unidades de juegos a la venta**"
   ]
  },
  {
   "cell_type": "code",
   "execution_count": 36,
   "metadata": {},
   "outputs": [
    {
     "data": {
      "image/png": "[encoded data removed]",
      "text/plain": [
       "<Figure size 648x288 with 1 Axes>"
      ]
     },
     "metadata": {
      "needs_background": "light"
     },
     "output_type": "display_data"
    }
   ],
   "source": [
    "NGenero = Data5.groupby(['Genero']).sum().copy()\n",
    "NGenero.V_Global.sort_values(ascending=False).plot(kind='bar', figsize=(9, 4),color='orange');"
   ]
  },
  {
   "cell_type": "markdown",
   "metadata": {},
   "source": [
    "Cuales la mayor competencia en el sector de videojuegos con respecto a genero, pero esto se relaciona con los gustos del mercado de cada region. Destacando el género de acción como de los más vendidos."
   ]
  },
  {
   "cell_type": "markdown",
   "metadata": {},
   "source": [
    "**Generos mas populares en Japon en base a sus ingresos**"
   ]
  },
  {
   "cell_type": "code",
   "execution_count": 37,
   "metadata": {},
   "outputs": [
    {
     "data": {
      "image/png": "[encoded data removed]",
      "text/plain": [
       "<Figure size 432x288 with 1 Axes>"
      ]
     },
     "metadata": {},
     "output_type": "display_data"
    }
   ],
   "source": [
    "NGenJp=Data5.groupby('Genero').sum().V_JP.sort_values(ascending=False).head(8)\n",
    "fig1, ax1 = plt.subplots()\n",
    "ax1.pie(NGenJp, labels=NGenJp.index, autopct='%1.1f%%',shadow=True, startangle=90)\n",
    "ax1.axis('equal')  # Equal aspect ratio ensures that pie is drawn as a circle.\n",
    "plt.show()"
   ]
  },
  {
   "cell_type": "markdown",
   "metadata": {},
   "source": [
    "En japon se vende mas juegos del tipo Role-Playing por lo que si vamos a producir un juego en este pais hay que seguir estos gustos para una mayor seguiridad de exito."
   ]
  },
  {
   "cell_type": "markdown",
   "metadata": {},
   "source": [
    "**Generos mas populares en Norte America en base a sus ingresos**"
   ]
  },
  {
   "cell_type": "code",
   "execution_count": 38,
   "metadata": {},
   "outputs": [
    {
     "data": {
      "image/png": "[encoded data removed]",
      "text/plain": [
       "<Figure size 432x288 with 1 Axes>"
      ]
     },
     "metadata": {},
     "output_type": "display_data"
    }
   ],
   "source": [
    "NGenNA=Data5.groupby('Genero').sum().V_NA.sort_values(ascending=False).head(8)\n",
    "fig1, ax1 = plt.subplots()\n",
    "ax1.pie(NGenNA, labels=NGenNA.index, autopct='%1.1f%%',shadow=True, startangle=90)\n",
    "ax1.axis('equal')  # Equal aspect ratio ensures that pie is drawn as a circle.\n",
    "plt.show()"
   ]
  },
  {
   "cell_type": "markdown",
   "metadata": {},
   "source": [
    "En Norte America se vende mas juegos del tipo Accion, seguido por el genero deportes por lo que si vamos a producir un juego en esta region hay que seguir estos gustos para una mayor seguridad de exito."
   ]
  },
  {
   "cell_type": "markdown",
   "metadata": {},
   "source": [
    "**Generos mas populares en Europa en base a sus ingresos**"
   ]
  },
  {
   "cell_type": "code",
   "execution_count": 39,
   "metadata": {},
   "outputs": [
    {
     "data": {
      "image/png": "[encoded data removed]",
      "text/plain": [
       "<Figure size 432x288 with 1 Axes>"
      ]
     },
     "metadata": {},
     "output_type": "display_data"
    }
   ],
   "source": [
    "NGenEU=Data5.groupby('Genero').sum().V_EU.sort_values(ascending=False).head(8)\n",
    "fig1, ax1 = plt.subplots()\n",
    "ax1.pie(NGenEU, labels=NGenEU.index, autopct='%1.1f%%',shadow=True, startangle=90)\n",
    "ax1.axis('equal')  # Equal aspect ratio ensures that pie is drawn as a circle.\n",
    "plt.show()"
   ]
  },
  {
   "cell_type": "markdown",
   "metadata": {},
   "source": [
    "En Europa se vende mas juegos del tipo Acción, seguido del genero shooter por lo que si vamos a producir un juego en esta region hay que seguir estos gustos para una mayor seguiridad de exito."
   ]
  },
  {
   "cell_type": "markdown",
   "metadata": {},
   "source": [
    "**Generos mas populares en el resto del mundo en base a sus ingresos**"
   ]
  },
  {
   "cell_type": "code",
   "execution_count": 132,
   "metadata": {},
   "outputs": [
    {
     "data": {
      "image/png": "[encoded data removed]",
      "text/plain": [
       "<Figure size 432x288 with 1 Axes>"
      ]
     },
     "metadata": {},
     "output_type": "display_data"
    }
   ],
   "source": [
    "NGenOt=Data5.groupby('Genero').sum().V_Otros.sort_values(ascending=False).head(8)\n",
    "fig1, ax1 = plt.subplots()\n",
    "ax1.pie(NGenOt, labels=NGenOt.index, autopct='%1.1f%%',shadow=True, startangle=90)\n",
    "ax1.axis('equal')  # Equal aspect ratio ensures that pie is drawn as a circle.\n",
    "plt.show()"
   ]
  },
  {
   "cell_type": "markdown",
   "metadata": {},
   "source": [
    "En el resto del mundo se vende mas juegos del tipo Acción, seguido del genero shooter por lo que si vamos a producir un juego en esta region hay que seguir estos gustos para una mayor seguiridad de exito."
   ]
  },
  {
   "cell_type": "markdown",
   "metadata": {},
   "source": [
    "**Ventas Globales por Region en unidades de millones a travez del tiempo**"
   ]
  },
  {
   "cell_type": "code",
   "execution_count": 130,
   "metadata": {},
   "outputs": [
    {
     "data": {
      "text/plain": [
       "<matplotlib.axes._subplots.AxesSubplot at 0x14f2507eb08>"
      ]
     },
     "execution_count": 130,
     "metadata": {},
     "output_type": "execute_result"
    },
    {
     "data": {
      "image/png": "[encoded data removed]",
      "text/plain": [
       "<Figure size 648x360 with 1 Axes>"
      ]
     },
     "metadata": {
      "needs_background": "light"
     },
     "output_type": "display_data"
    }
   ],
   "source": [
    "Ventas = Data5[[x for x in Data5.columns if 'V_' in x]+['Lanzamiento']]\n",
    "Ventas.groupby('Lanzamiento').sum().plot(figsize=(9, 5))"
   ]
  },
  {
   "cell_type": "markdown",
   "metadata": {},
   "source": [
    "Se aprecia que las ventas globales y ventas en otras regiones han tenido un decremento a partir del año 2009, esto generado por la descentralización de la industria, que se ha expandido, a pc y smartphones.\n",
    "\n",
    "Ahora bien, se aprecia que entre 1985 y 1995 hay una venta casi nula debido a que posiblemente apenas se pensaba implantarse en el mercado pues los videojuegos eran relativamente nuevos, después de allí se tiene un crecimiento importante, más en Norte América que se ilustra con el color azul en la gráfica y en segunda posición Europa. \n",
    "\n",
    "Algo interesante en general, es que Norte América y Europa tienen intereses similares en género de videojuegos y gráficamente en las ventas se nota una tendencia similar en ambas pero en menor escala. Es bueno saberlo si se desea sacar un videojuego de cierto género en particular, también porque acción es u género relevante en las tres zonas.  \n"
   ]
  },
  {
   "cell_type": "markdown",
   "metadata": {},
   "source": [
    "## Respondiendo preguntas de interes <a name=\"id8\"></a>"
   ]
  },
  {
   "cell_type": "markdown",
   "metadata": {},
   "source": [
    "¿Me convendría crear mi juego exclusivo para alguna compañía, o de un género en específico conociendo ya las preferencias de alguna región en específico?\n",
    "\n",
    "En el caso que decidiéramos lanzar un juego, como una compañía que aún no tiene el presupuesto de un empresa grande, analizar el mercado es muy importante, es por eso que decidimos, enfocarnos en un país en específico en este caso Japón, donde observamos que las ventas del género de role-playing son las que más ganancias genera, además en este país así como en el resto del mundo para esta generación, desarrollar para PS4 nos traería más alcance.\n"
   ]
  },
  {
   "cell_type": "markdown",
   "metadata": {},
   "source": [
    "**Agregando variable que estable si un juego es exitoso o no según sus ventas**"
   ]
  },
  {
   "cell_type": "code",
   "execution_count": 8,
   "metadata": {},
   "outputs": [],
   "source": [
    "Data5['Exito'] = Data5.apply(lambda _: 0, axis=1) \n",
    "Data5['Exito'] = 0"
   ]
  },
  {
   "cell_type": "code",
   "execution_count": 22,
   "metadata": {},
   "outputs": [
    {
     "data": {
      "text/plain": [
       "count    7902.000000\n",
       "mean        0.698921\n",
       "std         1.839605\n",
       "min         0.010000\n",
       "25%         0.100000\n",
       "50%         0.250000\n",
       "75%         0.660000\n",
       "max        82.530000\n",
       "Name: V_Global, dtype: float64"
      ]
     },
     "execution_count": 22,
     "metadata": {},
     "output_type": "execute_result"
    }
   ],
   "source": [
    "Data5['V_Global'].describe()\n"
   ]
  },
  {
   "cell_type": "markdown",
   "metadata": {},
   "source": [
    "Se decidió aplicar el **millón** de ventas como un indicador de éxito, dado que las compañías suelen fijar números grandes para su análisis de resultado."
   ]
  },
  {
   "cell_type": "code",
   "execution_count": 9,
   "metadata": {},
   "outputs": [
    {
     "name": "stderr",
     "output_type": "stream",
     "text": [
      "C:\\Users\\david\\Anaconda3\\lib\\site-packages\\ipykernel_launcher.py:1: SettingWithCopyWarning: \n",
      "A value is trying to be set on a copy of a slice from a DataFrame\n",
      "\n",
      "See the caveats in the documentation: http://pandas.pydata.org/pandas-docs/stable/user_guide/indexing.html#returning-a-view-versus-a-copy\n",
      "  \"\"\"Entry point for launching an IPython kernel.\n"
     ]
    }
   ],
   "source": [
    "Data5['Exito'][Data5['V_Global']>1]=1"
   ]
  },
  {
   "cell_type": "code",
   "execution_count": 48,
   "metadata": {
    "scrolled": true
   },
   "outputs": [
    {
     "data": {
      "text/html": [
       "<div>\n",
       "<style scoped>\n",
       "    .dataframe tbody tr th:only-of-type {\n",
       "        vertical-align: middle;\n",
       "    }\n",
       "\n",
       "    .dataframe tbody tr th {\n",
       "        vertical-align: top;\n",
       "    }\n",
       "\n",
       "    .dataframe thead th {\n",
       "        text-align: right;\n",
       "    }\n",
       "</style>\n",
       "<table border=\"1\" class=\"dataframe\">\n",
       "  <thead>\n",
       "    <tr style=\"text-align: right;\">\n",
       "      <th></th>\n",
       "      <th>Nombre</th>\n",
       "      <th>Plataforma</th>\n",
       "      <th>Lanzamiento</th>\n",
       "      <th>Genero</th>\n",
       "      <th>V_NA</th>\n",
       "      <th>V_EU</th>\n",
       "      <th>V_JP</th>\n",
       "      <th>V_Otros</th>\n",
       "      <th>V_Global</th>\n",
       "      <th>Score</th>\n",
       "      <th>ESRB</th>\n",
       "      <th>Exito</th>\n",
       "    </tr>\n",
       "  </thead>\n",
       "  <tbody>\n",
       "    <tr>\n",
       "      <td>0</td>\n",
       "      <td>Wii Sports</td>\n",
       "      <td>Wii</td>\n",
       "      <td>2006.0</td>\n",
       "      <td>Sports</td>\n",
       "      <td>41.36</td>\n",
       "      <td>28.96</td>\n",
       "      <td>3.77</td>\n",
       "      <td>8.45</td>\n",
       "      <td>82.53</td>\n",
       "      <td>76.0</td>\n",
       "      <td>E</td>\n",
       "      <td>1</td>\n",
       "    </tr>\n",
       "    <tr>\n",
       "      <td>1</td>\n",
       "      <td>Mario Kart Wii</td>\n",
       "      <td>Wii</td>\n",
       "      <td>2008.0</td>\n",
       "      <td>Racing</td>\n",
       "      <td>15.68</td>\n",
       "      <td>12.76</td>\n",
       "      <td>3.79</td>\n",
       "      <td>3.29</td>\n",
       "      <td>35.52</td>\n",
       "      <td>82.0</td>\n",
       "      <td>E</td>\n",
       "      <td>1</td>\n",
       "    </tr>\n",
       "    <tr>\n",
       "      <td>2</td>\n",
       "      <td>Wii Sports Resort</td>\n",
       "      <td>Wii</td>\n",
       "      <td>2009.0</td>\n",
       "      <td>Sports</td>\n",
       "      <td>15.61</td>\n",
       "      <td>10.93</td>\n",
       "      <td>3.28</td>\n",
       "      <td>2.95</td>\n",
       "      <td>32.77</td>\n",
       "      <td>80.0</td>\n",
       "      <td>E</td>\n",
       "      <td>1</td>\n",
       "    </tr>\n",
       "    <tr>\n",
       "      <td>3</td>\n",
       "      <td>New Super Mario Bros.</td>\n",
       "      <td>DS</td>\n",
       "      <td>2006.0</td>\n",
       "      <td>Platform</td>\n",
       "      <td>11.28</td>\n",
       "      <td>9.14</td>\n",
       "      <td>6.50</td>\n",
       "      <td>2.88</td>\n",
       "      <td>29.80</td>\n",
       "      <td>89.0</td>\n",
       "      <td>E</td>\n",
       "      <td>1</td>\n",
       "    </tr>\n",
       "    <tr>\n",
       "      <td>4</td>\n",
       "      <td>Wii Play</td>\n",
       "      <td>Wii</td>\n",
       "      <td>2006.0</td>\n",
       "      <td>Misc</td>\n",
       "      <td>13.96</td>\n",
       "      <td>9.18</td>\n",
       "      <td>2.93</td>\n",
       "      <td>2.84</td>\n",
       "      <td>28.92</td>\n",
       "      <td>58.0</td>\n",
       "      <td>E</td>\n",
       "      <td>1</td>\n",
       "    </tr>\n",
       "  </tbody>\n",
       "</table>\n",
       "</div>"
      ],
      "text/plain": [
       "                  Nombre Plataforma  Lanzamiento    Genero   V_NA   V_EU  \\\n",
       "0             Wii Sports        Wii       2006.0    Sports  41.36  28.96   \n",
       "1         Mario Kart Wii        Wii       2008.0    Racing  15.68  12.76   \n",
       "2      Wii Sports Resort        Wii       2009.0    Sports  15.61  10.93   \n",
       "3  New Super Mario Bros.         DS       2006.0  Platform  11.28   9.14   \n",
       "4               Wii Play        Wii       2006.0      Misc  13.96   9.18   \n",
       "\n",
       "   V_JP  V_Otros  V_Global  Score ESRB  Exito  \n",
       "0  3.77     8.45     82.53   76.0    E      1  \n",
       "1  3.79     3.29     35.52   82.0    E      1  \n",
       "2  3.28     2.95     32.77   80.0    E      1  \n",
       "3  6.50     2.88     29.80   89.0    E      1  \n",
       "4  2.93     2.84     28.92   58.0    E      1  "
      ]
     },
     "execution_count": 48,
     "metadata": {},
     "output_type": "execute_result"
    }
   ],
   "source": [
    "Data5.head()"
   ]
  },
  {
   "cell_type": "markdown",
   "metadata": {},
   "source": [
    "Ordenaremos los registros por su año de lanzamiento"
   ]
  },
  {
   "cell_type": "code",
   "execution_count": 14,
   "metadata": {},
   "outputs": [
    {
     "data": {
      "text/html": [
       "<div>\n",
       "<style scoped>\n",
       "    .dataframe tbody tr th:only-of-type {\n",
       "        vertical-align: middle;\n",
       "    }\n",
       "\n",
       "    .dataframe tbody tr th {\n",
       "        vertical-align: top;\n",
       "    }\n",
       "\n",
       "    .dataframe thead th {\n",
       "        text-align: right;\n",
       "    }\n",
       "</style>\n",
       "<table border=\"1\" class=\"dataframe\">\n",
       "  <thead>\n",
       "    <tr style=\"text-align: right;\">\n",
       "      <th></th>\n",
       "      <th>Nombre</th>\n",
       "      <th>Plataforma</th>\n",
       "      <th>Lanzamiento</th>\n",
       "      <th>Genero</th>\n",
       "      <th>V_NA</th>\n",
       "      <th>V_EU</th>\n",
       "      <th>V_JP</th>\n",
       "      <th>V_Otros</th>\n",
       "      <th>V_Global</th>\n",
       "      <th>Score</th>\n",
       "      <th>ESRB</th>\n",
       "      <th>Exito</th>\n",
       "    </tr>\n",
       "  </thead>\n",
       "  <tbody>\n",
       "    <tr>\n",
       "      <td>0</td>\n",
       "      <td>Alter Ego</td>\n",
       "      <td>PC</td>\n",
       "      <td>1985</td>\n",
       "      <td>Simulation</td>\n",
       "      <td>0.00</td>\n",
       "      <td>0.03</td>\n",
       "      <td>0.00</td>\n",
       "      <td>0.01</td>\n",
       "      <td>0.03</td>\n",
       "      <td>59.0</td>\n",
       "      <td>T</td>\n",
       "      <td>0</td>\n",
       "    </tr>\n",
       "    <tr>\n",
       "      <td>1</td>\n",
       "      <td>SimCity</td>\n",
       "      <td>PC</td>\n",
       "      <td>1988</td>\n",
       "      <td>Simulation</td>\n",
       "      <td>0.00</td>\n",
       "      <td>0.02</td>\n",
       "      <td>0.00</td>\n",
       "      <td>0.01</td>\n",
       "      <td>0.03</td>\n",
       "      <td>64.0</td>\n",
       "      <td>E10+</td>\n",
       "      <td>0</td>\n",
       "    </tr>\n",
       "    <tr>\n",
       "      <td>2</td>\n",
       "      <td>Doom</td>\n",
       "      <td>PC</td>\n",
       "      <td>1992</td>\n",
       "      <td>Shooter</td>\n",
       "      <td>0.02</td>\n",
       "      <td>0.00</td>\n",
       "      <td>0.00</td>\n",
       "      <td>0.00</td>\n",
       "      <td>0.03</td>\n",
       "      <td>85.0</td>\n",
       "      <td>M</td>\n",
       "      <td>0</td>\n",
       "    </tr>\n",
       "    <tr>\n",
       "      <td>3</td>\n",
       "      <td>Battle Arena Toshinden</td>\n",
       "      <td>PS</td>\n",
       "      <td>1994</td>\n",
       "      <td>Fighting</td>\n",
       "      <td>0.39</td>\n",
       "      <td>0.26</td>\n",
       "      <td>0.53</td>\n",
       "      <td>0.08</td>\n",
       "      <td>1.27</td>\n",
       "      <td>69.0</td>\n",
       "      <td>T</td>\n",
       "      <td>1</td>\n",
       "    </tr>\n",
       "    <tr>\n",
       "      <td>4</td>\n",
       "      <td>Tomb Raider</td>\n",
       "      <td>PC</td>\n",
       "      <td>1996</td>\n",
       "      <td>Action</td>\n",
       "      <td>0.96</td>\n",
       "      <td>0.07</td>\n",
       "      <td>0.00</td>\n",
       "      <td>0.00</td>\n",
       "      <td>1.03</td>\n",
       "      <td>86.0</td>\n",
       "      <td>M</td>\n",
       "      <td>1</td>\n",
       "    </tr>\n",
       "  </tbody>\n",
       "</table>\n",
       "</div>"
      ],
      "text/plain": [
       "                   Nombre Plataforma  Lanzamiento      Genero  V_NA  V_EU  \\\n",
       "0               Alter Ego         PC         1985  Simulation  0.00  0.03   \n",
       "1                 SimCity         PC         1988  Simulation  0.00  0.02   \n",
       "2                    Doom         PC         1992     Shooter  0.02  0.00   \n",
       "3  Battle Arena Toshinden         PS         1994    Fighting  0.39  0.26   \n",
       "4             Tomb Raider         PC         1996      Action  0.96  0.07   \n",
       "\n",
       "   V_JP  V_Otros  V_Global  Score  ESRB  Exito  \n",
       "0  0.00     0.01      0.03   59.0     T      0  \n",
       "1  0.00     0.01      0.03   64.0  E10+      0  \n",
       "2  0.00     0.00      0.03   85.0     M      0  \n",
       "3  0.53     0.08      1.27   69.0     T      1  \n",
       "4  0.00     0.00      1.03   86.0     M      1  "
      ]
     },
     "execution_count": 14,
     "metadata": {},
     "output_type": "execute_result"
    }
   ],
   "source": [
    "Data6 = Data5.sort_values('Lanzamiento')\n",
    "Data6=Data6.reset_index(drop=True)\n",
    "Data6.head()"
   ]
  },
  {
   "cell_type": "markdown",
   "metadata": {},
   "source": [
    "Para nuestra regresion logistica unicamente nos concentraremos en juegos que fueron lanzados del 2005 en adelante, para evitar la influencia de años donde la industria apenas estaba en inicios de desarrollo."
   ]
  },
  {
   "cell_type": "code",
   "execution_count": 23,
   "metadata": {},
   "outputs": [
    {
     "data": {
      "text/html": [
       "<div>\n",
       "<style scoped>\n",
       "    .dataframe tbody tr th:only-of-type {\n",
       "        vertical-align: middle;\n",
       "    }\n",
       "\n",
       "    .dataframe tbody tr th {\n",
       "        vertical-align: top;\n",
       "    }\n",
       "\n",
       "    .dataframe thead th {\n",
       "        text-align: right;\n",
       "    }\n",
       "</style>\n",
       "<table border=\"1\" class=\"dataframe\">\n",
       "  <thead>\n",
       "    <tr style=\"text-align: right;\">\n",
       "      <th></th>\n",
       "      <th>Nombre</th>\n",
       "      <th>Plataforma</th>\n",
       "      <th>Genero</th>\n",
       "      <th>V_Global</th>\n",
       "      <th>Score</th>\n",
       "      <th>ESRB</th>\n",
       "      <th>Exito</th>\n",
       "    </tr>\n",
       "  </thead>\n",
       "  <tbody>\n",
       "    <tr>\n",
       "      <td>0</td>\n",
       "      <td>Alter Ego</td>\n",
       "      <td>PC</td>\n",
       "      <td>Simulation</td>\n",
       "      <td>0.03</td>\n",
       "      <td>59.0</td>\n",
       "      <td>T</td>\n",
       "      <td>0</td>\n",
       "    </tr>\n",
       "    <tr>\n",
       "      <td>1</td>\n",
       "      <td>SimCity</td>\n",
       "      <td>PC</td>\n",
       "      <td>Simulation</td>\n",
       "      <td>0.03</td>\n",
       "      <td>64.0</td>\n",
       "      <td>E10+</td>\n",
       "      <td>0</td>\n",
       "    </tr>\n",
       "    <tr>\n",
       "      <td>2</td>\n",
       "      <td>Doom</td>\n",
       "      <td>PC</td>\n",
       "      <td>Shooter</td>\n",
       "      <td>0.03</td>\n",
       "      <td>85.0</td>\n",
       "      <td>M</td>\n",
       "      <td>0</td>\n",
       "    </tr>\n",
       "    <tr>\n",
       "      <td>3</td>\n",
       "      <td>Battle Arena Toshinden</td>\n",
       "      <td>PS</td>\n",
       "      <td>Fighting</td>\n",
       "      <td>1.27</td>\n",
       "      <td>69.0</td>\n",
       "      <td>T</td>\n",
       "      <td>1</td>\n",
       "    </tr>\n",
       "    <tr>\n",
       "      <td>4</td>\n",
       "      <td>Tomb Raider</td>\n",
       "      <td>PC</td>\n",
       "      <td>Action</td>\n",
       "      <td>1.03</td>\n",
       "      <td>86.0</td>\n",
       "      <td>M</td>\n",
       "      <td>1</td>\n",
       "    </tr>\n",
       "  </tbody>\n",
       "</table>\n",
       "</div>"
      ],
      "text/plain": [
       "                   Nombre Plataforma      Genero  V_Global  Score  ESRB  Exito\n",
       "0               Alter Ego         PC  Simulation      0.03   59.0     T      0\n",
       "1                 SimCity         PC  Simulation      0.03   64.0  E10+      0\n",
       "2                    Doom         PC     Shooter      0.03   85.0     M      0\n",
       "3  Battle Arena Toshinden         PS    Fighting      1.27   69.0     T      1\n",
       "4             Tomb Raider         PC      Action      1.03   86.0     M      1"
      ]
     },
     "execution_count": 23,
     "metadata": {},
     "output_type": "execute_result"
    }
   ],
   "source": [
    "Data7=Data6[Data6['Lanzamiento']>=2005]\n",
    "Data7=Data6.drop(['V_NA','V_EU', 'V_JP', 'V_Otros','Lanzamiento'],axis=1)\n",
    "Data7.head()"
   ]
  },
  {
   "cell_type": "markdown",
   "metadata": {},
   "source": [
    "Generando un csv de nuestra tabla final"
   ]
  },
  {
   "cell_type": "code",
   "execution_count": 25,
   "metadata": {},
   "outputs": [],
   "source": [
    "#Data7.to_csv('C:/Users/jos/josue/Mineria_de_Datos/Avance PIA/DATAVIDEOJUEGOSbuena.csv', index = False)#Josue\n",
    "Data7.to_csv('C:/Users/david/Mineria Datos/Josue/Mineria_de_Datos/Avance PIA/DATAVIDEOJUEGOSbuena.csv', index = False)#dAVID\n"
   ]
  },
  {
   "cell_type": "code",
   "execution_count": 27,
   "metadata": {},
   "outputs": [],
   "source": [
    "\n",
    "#SALES = pd.read_csv(\"C:/Users/jos/josue/Mineria_de_Datos/Avance PIA/DATAVIDEOJUEGOSbuena.csv\") #josue\n",
    "SALES = pd.read_csv(\"C:/Users/david/Mineria Datos/Josue/Mineria_de_Datos/Avance PIA/DATAVIDEOJUEGOSbuena.csv\") #DAVID\n",
    "Data7=pd.DataFrame(SALES)"
   ]
  },
  {
   "cell_type": "markdown",
   "metadata": {},
   "source": [
    "## Regresión Logística <a name=\"id9\"></a>"
   ]
  },
  {
   "cell_type": "markdown",
   "metadata": {},
   "source": [
    "Variables dependientes e independientes"
   ]
  },
  {
   "cell_type": "code",
   "execution_count": 124,
   "metadata": {},
   "outputs": [],
   "source": [
    "X = np.array(Data7.drop(['Exito','Nombre','V_Global'],1))\n",
    "y = np.array(Data7['Exito'])\n"
   ]
  },
  {
   "cell_type": "markdown",
   "metadata": {},
   "source": [
    "Convertimos nuestras variables categoricas en Numeros"
   ]
  },
  {
   "cell_type": "code",
   "execution_count": 125,
   "metadata": {},
   "outputs": [],
   "source": [
    "from sklearn.preprocessing import LabelEncoder,OneHotEncoder\n",
    "lebelencoder_X_Plataforma= LabelEncoder()\n",
    "X[:,0]=lebelencoder_X_Plataforma.fit_transform(X[:,0])\n",
    "lebelencoder_X_Genero= LabelEncoder()\n",
    "X[:,1]=lebelencoder_X_Genero.fit_transform(X[:,1])\n",
    "lebelencoder_X_ESRB= LabelEncoder()\n",
    "X[:,3]=lebelencoder_X_ESRB.fit_transform(X[:,3])\n"
   ]
  },
  {
   "cell_type": "markdown",
   "metadata": {},
   "source": [
    "Validación de nuestro modelo\n",
    "\n",
    "Para ello, subdividimos nuestros datos de entrada en forma aleatoria (mezclados) utilizando 80% de registros para entrenamiento y 20% para validar."
   ]
  },
  {
   "cell_type": "code",
   "execution_count": 132,
   "metadata": {},
   "outputs": [],
   "source": [
    "validation_size = 0.20\n",
    "seed = 7\n",
    "X_train, X_validation, Y_train, Y_validation = model_selection.train_test_split(X, y, test_size=validation_size, random_state=seed)"
   ]
  },
  {
   "cell_type": "markdown",
   "metadata": {},
   "source": [
    "**Generamos el modelo de Regresión Logística**"
   ]
  },
  {
   "cell_type": "code",
   "execution_count": 133,
   "metadata": {},
   "outputs": [
    {
     "name": "stderr",
     "output_type": "stream",
     "text": [
      "C:\\Users\\david\\Anaconda3\\lib\\site-packages\\sklearn\\linear_model\\logistic.py:432: FutureWarning: Default solver will be changed to 'lbfgs' in 0.22. Specify a solver to silence this warning.\n",
      "  FutureWarning)\n",
      "C:\\Users\\david\\Anaconda3\\lib\\site-packages\\sklearn\\linear_model\\logistic.py:432: FutureWarning: Default solver will be changed to 'lbfgs' in 0.22. Specify a solver to silence this warning.\n",
      "  FutureWarning)\n",
      "C:\\Users\\david\\Anaconda3\\lib\\site-packages\\sklearn\\linear_model\\logistic.py:432: FutureWarning: Default solver will be changed to 'lbfgs' in 0.22. Specify a solver to silence this warning.\n",
      "  FutureWarning)\n",
      "C:\\Users\\david\\Anaconda3\\lib\\site-packages\\sklearn\\linear_model\\logistic.py:432: FutureWarning: Default solver will be changed to 'lbfgs' in 0.22. Specify a solver to silence this warning.\n",
      "  FutureWarning)\n",
      "C:\\Users\\david\\Anaconda3\\lib\\site-packages\\sklearn\\linear_model\\logistic.py:432: FutureWarning: Default solver will be changed to 'lbfgs' in 0.22. Specify a solver to silence this warning.\n",
      "  FutureWarning)\n",
      "C:\\Users\\david\\Anaconda3\\lib\\site-packages\\sklearn\\linear_model\\logistic.py:432: FutureWarning: Default solver will be changed to 'lbfgs' in 0.22. Specify a solver to silence this warning.\n",
      "  FutureWarning)\n",
      "C:\\Users\\david\\Anaconda3\\lib\\site-packages\\sklearn\\linear_model\\logistic.py:432: FutureWarning: Default solver will be changed to 'lbfgs' in 0.22. Specify a solver to silence this warning.\n",
      "  FutureWarning)\n",
      "C:\\Users\\david\\Anaconda3\\lib\\site-packages\\sklearn\\linear_model\\logistic.py:432: FutureWarning: Default solver will be changed to 'lbfgs' in 0.22. Specify a solver to silence this warning.\n",
      "  FutureWarning)\n",
      "C:\\Users\\david\\Anaconda3\\lib\\site-packages\\sklearn\\linear_model\\logistic.py:432: FutureWarning: Default solver will be changed to 'lbfgs' in 0.22. Specify a solver to silence this warning.\n",
      "  FutureWarning)\n",
      "C:\\Users\\david\\Anaconda3\\lib\\site-packages\\sklearn\\linear_model\\logistic.py:432: FutureWarning: Default solver will be changed to 'lbfgs' in 0.22. Specify a solver to silence this warning.\n",
      "  FutureWarning)\n"
     ]
    }
   ],
   "source": [
    "name='Logistic Regression'\n",
    "kfold = model_selection.KFold(n_splits=10, random_state=seed)\n",
    "cv_results = model_selection.cross_val_score(model, X_train, Y_train, cv=kfold, scoring='accuracy')\n",
    "msg = \"%s: %f (%f)\" % (name, cv_results.mean(), cv_results.std())\n"
   ]
  },
  {
   "cell_type": "markdown",
   "metadata": {},
   "source": [
    "Y ahora hacemos las predicciones -en realidad clasificación- utilizando nuestro «cross validation set», es decir del subconjunto que habíamos apartado. En este caso vemos que los aciertos fueron del 84% pero hay que tener en cuenta que el tamaño de datos era pequeño."
   ]
  },
  {
   "cell_type": "code",
   "execution_count": 134,
   "metadata": {},
   "outputs": [
    {
     "name": "stdout",
     "output_type": "stream",
     "text": [
      "0.8425047438330171\n"
     ]
    }
   ],
   "source": [
    "predictions = model.predict(X_validation)\n",
    "print(accuracy_score(Y_validation, predictions))"
   ]
  },
  {
   "cell_type": "markdown",
   "metadata": {},
   "source": [
    "Funcion para graficar la matriz de Confusion "
   ]
  },
  {
   "cell_type": "code",
   "execution_count": 136,
   "metadata": {},
   "outputs": [],
   "source": [
    "#http://www.statdeveloper.com/regresion-logistica-en-python/\n",
    "from sklearn.metrics import classification_report, confusion_matrix\n",
    "import itertools\n",
    "def plot_confusion_matrix(cm, classes, normalize=False, title='Confusion matrix', cmap=plt.cm.Blues):\n",
    "  \n",
    "  plt.imshow(cm, interpolation='nearest', cmap=cmap)\n",
    "  plt.title(title)\n",
    "  plt.colorbar()\n",
    "  tick_marks = np.arange(len(classes))\n",
    "  plt.xticks(tick_marks, classes, rotation=45)\n",
    "  plt.yticks(tick_marks, classes)\n",
    "\n",
    "  fmt = '.2f' if normalize else 'd'\n",
    "  thresh = cm.max() / 2.\n",
    "  for i, j in itertools.product(range(cm.shape[0]), range(cm.shape[1])):\n",
    "    plt.text(j, i, format(cm[i, j], fmt), horizontalalignment=\"center\", color=\"white\" if cm[i, j] > thresh else \"black\")\n",
    "\n",
    "  plt.tight_layout()\n",
    "  plt.ylabel('Etiqueta Real')\n",
    "  plt.xlabel('Etiqueta Predicha')\n"
   ]
  },
  {
   "cell_type": "markdown",
   "metadata": {},
   "source": [
    "Grafica de matriz de confusion"
   ]
  },
  {
   "cell_type": "code",
   "execution_count": 138,
   "metadata": {},
   "outputs": [
    {
     "data": {
      "text/plain": [
       "Text(0.5, 1, '')"
      ]
     },
     "execution_count": 138,
     "metadata": {},
     "output_type": "execute_result"
    },
    {
     "data": {
      "image/png": "[encoded data removed]",
      "text/plain": [
       "<Figure size 432x288 with 2 Axes>"
      ]
     },
     "metadata": {},
     "output_type": "display_data"
    }
   ],
   "source": [
    "cnf_matrix = confusion_matrix(Y_validation, predictions, labels=[1,0])\n",
    "np.set_printoptions(precision=2)\n",
    "\n",
    "plt.figure()\n",
    "plot_confusion_matrix(cnf_matrix, classes=['Exitoso=1','No Exitoso=0'],normalize= False, title='Matriz de confusión')\n",
    "plt.ylabel('Estatus Original')\n",
    "plt.xlabel('Prediccion')\n",
    "plt.title('')"
   ]
  },
  {
   "cell_type": "markdown",
   "metadata": {},
   "source": [
    "Matriz de precision del modelo para cada variable"
   ]
  },
  {
   "cell_type": "code",
   "execution_count": 140,
   "metadata": {},
   "outputs": [
    {
     "name": "stdout",
     "output_type": "stream",
     "text": [
      "              precision    recall  f1-score   support\n",
      "\n",
      "           0       0.85      0.99      0.91      1315\n",
      "           1       0.72      0.11      0.18       266\n",
      "\n",
      "    accuracy                           0.84      1581\n",
      "   macro avg       0.78      0.55      0.55      1581\n",
      "weighted avg       0.82      0.84      0.79      1581\n",
      "\n"
     ]
    }
   ],
   "source": [
    "print(classification_report(Y_validation, predictions))"
   ]
  },
  {
   "cell_type": "markdown",
   "metadata": {},
   "source": [
    "## Predicciones <a name=\"id10\"></a>"
   ]
  },
  {
   "cell_type": "markdown",
   "metadata": {},
   "source": [
    "**Predicción 1** \n",
    "\n",
    "Plataforma: PS4 Género: Shooter Score:60 ESBR:M\n",
    "\n",
    "El Resultado de la predicción fue no exitoso\n"
   ]
  },
  {
   "cell_type": "code",
   "execution_count": 141,
   "metadata": {},
   "outputs": [
    {
     "data": {
      "text/plain": [
       "array([0], dtype=int64)"
      ]
     },
     "execution_count": 141,
     "metadata": {},
     "output_type": "execute_result"
    }
   ],
   "source": [
    "X_new = pd.DataFrame({'Plataforma': [1], 'Genero': [8], 'Score': [60], 'ESBR': [2]})\n",
    "model.predict(X_new)"
   ]
  },
  {
   "cell_type": "markdown",
   "metadata": {},
   "source": [
    "**Predicción 2** \n",
    "\n",
    "Plataforma: XONE Género: action Score:50 ESBR:E\n",
    "\n",
    "El Resultado de la predicción fue exitoso\n"
   ]
  },
  {
   "cell_type": "code",
   "execution_count": 143,
   "metadata": {},
   "outputs": [
    {
     "data": {
      "text/plain": [
       "array([1], dtype=int64)"
      ]
     },
     "execution_count": 143,
     "metadata": {},
     "output_type": "execute_result"
    }
   ],
   "source": [
    "X_new = pd.DataFrame({'Plataforma': [5], 'Genero': [0], 'Score': [90], 'ESBR': [0]})\n",
    "model.predict(X_new)"
   ]
  },
  {
   "cell_type": "markdown",
   "metadata": {},
   "source": [
    "**Respondiendo preguntas de interés**"
   ]
  },
  {
   "cell_type": "markdown",
   "metadata": {},
   "source": [
    "Que un juego o no sea exitoso involucra muchas características sin embargo, una de las más importantes que notamos con nuestras predicciones es que el score influye mucho al momento de adquirir un juego, por lo que generar juegos de calidad, y del agrado de la gente es la mejor clave sin dejar de lado los géneros más vendidos en cada una de las regiones."
   ]
  }
 ],
 "metadata": {
  "kernelspec": {
   "display_name": "Python 3",
   "language": "python",
   "name": "python3"
  },
  "language_info": {
   "codemirror_mode": {
    "name": "ipython",
    "version": 3
   },
   "file_extension": ".py",
   "mimetype": "text/x-python",
   "name": "python",
   "nbconvert_exporter": "python",
   "pygments_lexer": "ipython3",
   "version": "3.7.4"
  }
 },
 "nbformat": 4,
 "nbformat_minor": 2
}
